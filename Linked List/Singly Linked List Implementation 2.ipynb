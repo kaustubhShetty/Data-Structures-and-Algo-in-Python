{
 "cells": [
  {
   "cell_type": "code",
   "execution_count": null,
   "metadata": {},
   "outputs": [],
   "source": [
    "#Complete implementation of linked list"
   ]
  },
  {
   "cell_type": "code",
   "execution_count": 49,
   "metadata": {},
   "outputs": [],
   "source": [
    "class Node(object):\n",
    "    def __init__(self,value):\n",
    "        self.value = value\n",
    "        self.next = None"
   ]
  },
  {
   "cell_type": "code",
   "execution_count": 55,
   "metadata": {},
   "outputs": [],
   "source": [
    "class SLinkedList(object):\n",
    "    \n",
    "    def __init__(self):\n",
    "        self.root = None\n",
    "    \n",
    "    def insertAtEnd(self,data):\n",
    "        NewNode = Node(data)\n",
    "        if self.root is None:\n",
    "            self.root = NewNode\n",
    "            return\n",
    "        p1 = self.root\n",
    "        while p1.next:   #Iterate till the last node\n",
    "            p1 = p1.next\n",
    "        p1.next = NewNode\n",
    "            \n",
    "    def printLL(self):\n",
    "        if self.root==None:\n",
    "            print(\"No nodes in the LL\")\n",
    "        else:\n",
    "            p2 = self.root\n",
    "            while p2:\n",
    "                print(p2.value)\n",
    "                p2 = p2.next  \n",
    "    \n",
    "    def insertAtBegining(self,data):\n",
    "        NewNode = Node(data)\n",
    "        if self.root is None:\n",
    "            self.root = NewNode\n",
    "        else:\n",
    "            NewNode.next = self.root\n",
    "            self.root = NewNode\n",
    "    \n",
    "    def deleteNode(self,deleteValue):\n",
    "        \n",
    "        if self.root.value is deleteValue:  #If the node to be deleted is the first node in the list\n",
    "            self.root = self.root.next\n",
    "        else:           #If the node to be deleted is the last node in the list\n",
    "            prev = self.root\n",
    "            p1 = prev.next\n",
    "            while(p1.value != deleteValue):\n",
    "                prev = prev.next   #Previous pointer\n",
    "                p1 = p1.next       #Next pointer\n",
    "            if p1.next==None:  #It means its the last node of the list\n",
    "                prev.next = None\n",
    "            else:\n",
    "                prev.next = p1.next\n",
    "        \n",
    "    def deleteAtPosition(self,position):  #####Complete this Code##################################################3\n",
    "        \n",
    "        if position==1:   #It means to delete the first node\n",
    "            self.root = self.root.next\n",
    "        else:\n",
    "            prev = self.root\n",
    "            p1 = prev.next\n",
    "            flag = 0\n",
    "            while p1!=None and flag!=position:\n",
    "                flag = flag+1\n",
    "                prev = prev.next\n",
    "                p1 = p1.next\n",
    "            if p1.next==None: #This means its the last node in my Linked List\n",
    "                pass \n",
    "            \n",
    "    def reverseLL(self):\n",
    "        if self.root == None:\n",
    "            print(\"There are no Nodes in the List\")\n",
    "        else:\n",
    "            p1 = self.root #p1 points the first node in the list\n",
    "            p2 = p1.next #Pointer p2 pointing the second node\n",
    "            while p2 is not None:\n",
    "                temp=p2.next\n",
    "                p2.next= p1\n",
    "                p1 = p2\n",
    "                p2 = temp\n",
    "            self.root.next = None\n",
    "            self.root = p1\n",
    "            print(self.root.value)\n",
    "            print(self.root.next.value)\n",
    "            print(self.root.next.next.value)\n",
    "            print(self.root.next.next.next.value)\n",
    "        "
   ]
  },
  {
   "cell_type": "code",
   "execution_count": 56,
   "metadata": {},
   "outputs": [],
   "source": [
    "ll=SLinkedList()"
   ]
  },
  {
   "cell_type": "code",
   "execution_count": 57,
   "metadata": {
    "scrolled": true
   },
   "outputs": [
    {
     "name": "stdout",
     "output_type": "stream",
     "text": [
      "No nodes in the LL\n"
     ]
    }
   ],
   "source": [
    "ll.printLL()"
   ]
  },
  {
   "cell_type": "code",
   "execution_count": 58,
   "metadata": {},
   "outputs": [
    {
     "name": "stdout",
     "output_type": "stream",
     "text": [
      "10\n",
      "20\n",
      "30\n",
      "40\n"
     ]
    }
   ],
   "source": [
    "ll.insertAtEnd(10)\n",
    "ll.insertAtEnd(20)\n",
    "ll.insertAtEnd(30)\n",
    "ll.insertAtEnd(40)\n",
    "ll.printLL()"
   ]
  },
  {
   "cell_type": "code",
   "execution_count": 59,
   "metadata": {},
   "outputs": [],
   "source": [
    "ll.insertAtBegining(11)"
   ]
  },
  {
   "cell_type": "code",
   "execution_count": 60,
   "metadata": {},
   "outputs": [
    {
     "name": "stdout",
     "output_type": "stream",
     "text": [
      "11\n",
      "10\n",
      "20\n",
      "30\n",
      "40\n"
     ]
    }
   ],
   "source": [
    "ll.printLL()"
   ]
  },
  {
   "cell_type": "code",
   "execution_count": 61,
   "metadata": {},
   "outputs": [],
   "source": [
    "ll.deleteNode(11)"
   ]
  },
  {
   "cell_type": "code",
   "execution_count": 62,
   "metadata": {},
   "outputs": [
    {
     "name": "stdout",
     "output_type": "stream",
     "text": [
      "10\n",
      "20\n",
      "30\n",
      "40\n"
     ]
    }
   ],
   "source": [
    "ll.printLL()"
   ]
  },
  {
   "cell_type": "code",
   "execution_count": 63,
   "metadata": {},
   "outputs": [],
   "source": [
    "ll.deleteNode(40)"
   ]
  },
  {
   "cell_type": "code",
   "execution_count": 64,
   "metadata": {},
   "outputs": [
    {
     "name": "stdout",
     "output_type": "stream",
     "text": [
      "10\n",
      "20\n",
      "30\n"
     ]
    }
   ],
   "source": [
    "ll.printLL()"
   ]
  },
  {
   "cell_type": "code",
   "execution_count": 65,
   "metadata": {},
   "outputs": [],
   "source": [
    "ll.deleteNode(20)"
   ]
  },
  {
   "cell_type": "code",
   "execution_count": 66,
   "metadata": {},
   "outputs": [
    {
     "name": "stdout",
     "output_type": "stream",
     "text": [
      "10\n",
      "30\n"
     ]
    }
   ],
   "source": [
    "ll.printLL()"
   ]
  },
  {
   "cell_type": "code",
   "execution_count": 67,
   "metadata": {},
   "outputs": [],
   "source": [
    "ll.deleteNode(10)"
   ]
  },
  {
   "cell_type": "code",
   "execution_count": 68,
   "metadata": {},
   "outputs": [],
   "source": [
    "ll.deleteNode(30)"
   ]
  },
  {
   "cell_type": "code",
   "execution_count": 69,
   "metadata": {},
   "outputs": [
    {
     "name": "stdout",
     "output_type": "stream",
     "text": [
      "10\n",
      "20\n",
      "30\n",
      "40\n"
     ]
    }
   ],
   "source": [
    "ll.insertAtEnd(10)\n",
    "ll.insertAtEnd(20)\n",
    "ll.insertAtEnd(30)\n",
    "ll.insertAtEnd(40)\n",
    "ll.printLL()"
   ]
  },
  {
   "cell_type": "code",
   "execution_count": 70,
   "metadata": {},
   "outputs": [
    {
     "name": "stdout",
     "output_type": "stream",
     "text": [
      "40\n",
      "30\n",
      "20\n",
      "10\n"
     ]
    }
   ],
   "source": [
    "ll.reverseLL()"
   ]
  },
  {
   "cell_type": "code",
   "execution_count": 71,
   "metadata": {},
   "outputs": [
    {
     "name": "stdout",
     "output_type": "stream",
     "text": [
      "40\n",
      "30\n",
      "20\n",
      "10\n"
     ]
    }
   ],
   "source": [
    "ll.printLL()"
   ]
  },
  {
   "cell_type": "code",
   "execution_count": null,
   "metadata": {},
   "outputs": [],
   "source": []
  }
 ],
 "metadata": {
  "kernelspec": {
   "display_name": "Python 3",
   "language": "python",
   "name": "python3"
  },
  "language_info": {
   "codemirror_mode": {
    "name": "ipython",
    "version": 3
   },
   "file_extension": ".py",
   "mimetype": "text/x-python",
   "name": "python",
   "nbconvert_exporter": "python",
   "pygments_lexer": "ipython3",
   "version": "3.7.4"
  }
 },
 "nbformat": 4,
 "nbformat_minor": 2
}
