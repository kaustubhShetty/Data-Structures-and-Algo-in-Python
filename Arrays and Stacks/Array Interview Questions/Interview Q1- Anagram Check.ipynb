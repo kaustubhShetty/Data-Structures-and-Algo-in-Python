{
 "cells": [
  {
   "cell_type": "markdown",
   "metadata": {},
   "source": [
    "# Problem 1"
   ]
  },
  {
   "cell_type": "markdown",
   "metadata": {},
   "source": [
    "Given 2 strings check to see if they are anagrams. An anagram is when the two strings can be written using the exact same letters (so you can just rearrange the letters to get a different word or phrase)"
   ]
  },
  {
   "cell_type": "markdown",
   "metadata": {},
   "source": [
    "for example:\n",
    "    1) \"Public relations\" is an anagram of \"crap built on lies\"\n",
    "    2) \"Clint eastwood\" is an anagram of \"old west action\""
   ]
  },
  {
   "cell_type": "code",
   "execution_count": 1,
   "metadata": {},
   "outputs": [
    {
     "data": {
      "text/plain": [
       "'def anagram(str1,str2):\\n    str1 = str1.replace(\" \",\"\").lower()\\n    str2 = str2.replace(\" \",\"\").lower()\\n    for i,m in enumerate(str1):\\n        count=0\\n        for j,n in enumerate(str2):\\n            count = count+1\\n            if str[i]==str[j]:\\n                \\n                break\\n            if count == len(str1):\\n                return False\\n    return True'"
      ]
     },
     "execution_count": 1,
     "metadata": {},
     "output_type": "execute_result"
    }
   ],
   "source": [
    "'''def anagram(str1,str2):\n",
    "    str1 = str1.replace(\" \",\"\").lower()\n",
    "    str2 = str2.replace(\" \",\"\").lower()\n",
    "    for i,m in enumerate(str1):\n",
    "        count=0\n",
    "        for j,n in enumerate(str2):\n",
    "            count = count+1\n",
    "            if str[i]==str[j]:\n",
    "                \n",
    "                break\n",
    "            if count == len(str1):\n",
    "                return False\n",
    "    return True'''"
   ]
  },
  {
   "cell_type": "code",
   "execution_count": 1,
   "metadata": {},
   "outputs": [],
   "source": [
    "def anagram****(str1,str2):     ##My Brute Force Approach  ##Doesnot work for 1 Test Case\n",
    "    str1 = str1.replace(\" \",\"\").lower() #anagram('aaabb','abbbb') This should  return False but the \n",
    "    str2 = str2.replace(\" \",\"\").lower() #code returns True\n",
    "    \n",
    "    if len(str1)!=len(str2):\n",
    "        return False\n",
    "    l1=list(set(str1))\n",
    "    l2=list(set(str2))\n",
    "    \n",
    "    for i in l1:\n",
    "        count = 0\n",
    "        for j in l2:\n",
    "            count = count+1\n",
    "            if i==j:\n",
    "                break\n",
    "            if count==len(l1):\n",
    "                return False\n",
    "        return True\n",
    "            "
   ]
  },
  {
   "cell_type": "code",
   "execution_count": null,
   "metadata": {},
   "outputs": [],
   "source": [
    "def anagram****(str1,str2):     \n",
    "    str1 = str1.replace(\" \",\"\").lower()\n",
    "    str2 = str2.replace(\" \",\"\").lower()\n",
    "    \n",
    "    if len(str1)!=len(str2):\n",
    "        return False\n",
    "    l1=list(str1)\n",
    "    l2=list(str2)\n",
    "    \n",
    "    '''for i,ele_l1 in enumerate(l1):\n",
    "        count = 0\n",
    "        for j,ele_l2 in enumerate(l2):\n",
    "            count = count+1\n",
    "            if ele_l1==ele_l2:\n",
    "                l2.pop(j)\n",
    "                break\n",
    "            if count==len(l1):\n",
    "                return False\n",
    "        return True'''\n",
    "    i=0                             ##This approach of poping is wrong because  when we pop at index \n",
    "    while i<len(l1):                # specified, the rest of the elements left shift\n",
    "        j=0                         # Making next iteration of continued inner loop to skip one char\n",
    "        while j<len(l2):\n",
    "            if l1[i]==l2[j]:\n",
    "                l2.pop(j)\n",
    "                break\n",
    "            \n",
    "            "
   ]
  },
  {
   "cell_type": "markdown",
   "metadata": {},
   "source": [
    "# 1. Solution using Hash Table"
   ]
  },
  {
   "cell_type": "code",
   "execution_count": 90,
   "metadata": {},
   "outputs": [],
   "source": [
    "##Using Hash Table (Dictionary in Python)\n",
    "\n",
    "def anagram(str1,str2):\n",
    "    \n",
    "    str1 = str1.replace(\" \",\"\").lower()\n",
    "    str2 = str2.replace(\" \",\"\").lower()\n",
    "    \n",
    "    if len(str1)!=len(str2):\n",
    "        return False\n",
    "    \n",
    "    #Make a dictionary call counts\n",
    "    \n",
    "    counts = {}\n",
    "    \n",
    "    #Fill the dictionary for the 1st String\n",
    "    for letter in str1:\n",
    "        if letter in counts:\n",
    "            counts[letter] += 1\n",
    "        else:\n",
    "            counts[letter] = 1\n",
    "    \n",
    "    for letter in str2:\n",
    "        if letter in counts:\n",
    "            counts[letter] -= 1\n",
    "        else:\n",
    "            return False    #If there is \n",
    "    for k in counts:\n",
    "        if counts[k]!=0:\n",
    "            return False\n",
    "    #Else they are anagrams\n",
    "    return True"
   ]
  },
  {
   "cell_type": "markdown",
   "metadata": {},
   "source": [
    "There are 3 things which make an anagram false\n",
    "1. Lengths not equal\n",
    "2. Extra different character in the other string\n",
    "3. if the no. of occurances of each char in both the strings are not equal "
   ]
  },
  {
   "cell_type": "markdown",
   "metadata": {},
   "source": [
    "# 2. Solution Using Sorted Function "
   ]
  },
  {
   "cell_type": "code",
   "execution_count": 76,
   "metadata": {},
   "outputs": [],
   "source": [
    "def anagram2(str1,str2):\n",
    "    str1 = str1.replace(\" \",\"\").lower()\n",
    "    str2 = str2.replace(\" \",\"\").lower()    #This will not be preferred in interview\n",
    "    \n",
    "    return sorted(str1)==sorted(str2)"
   ]
  },
  {
   "cell_type": "code",
   "execution_count": 89,
   "metadata": {},
   "outputs": [
    {
     "data": {
      "text/plain": [
       "True"
      ]
     },
     "execution_count": 89,
     "metadata": {},
     "output_type": "execute_result"
    }
   ],
   "source": [
    "#Test Case 1\n",
    "str1 = \"Public Relations\"\n",
    "str2 = \"crap built on lies\"\n",
    "anagram2(str1,str2)"
   ]
  },
  {
   "cell_type": "code",
   "execution_count": 78,
   "metadata": {},
   "outputs": [
    {
     "data": {
      "text/plain": [
       "False"
      ]
     },
     "execution_count": 78,
     "metadata": {},
     "output_type": "execute_result"
    }
   ],
   "source": [
    "#Test Case 2\n",
    "str1 = \"Monkey\"\n",
    "str2 = \"Hambur\"\n",
    "anagram(str1,str2)"
   ]
  },
  {
   "cell_type": "code",
   "execution_count": 79,
   "metadata": {},
   "outputs": [
    {
     "data": {
      "text/plain": [
       "True"
      ]
     },
     "execution_count": 79,
     "metadata": {},
     "output_type": "execute_result"
    }
   ],
   "source": [
    "#Test Case 3\n",
    "str1 = \"Clint eastwood\"\n",
    "str2 = \"old west action\"\n",
    "anagram(str1,str2)"
   ]
  },
  {
   "cell_type": "code",
   "execution_count": 80,
   "metadata": {},
   "outputs": [
    {
     "data": {
      "text/plain": [
       "False"
      ]
     },
     "execution_count": 80,
     "metadata": {},
     "output_type": "execute_result"
    }
   ],
   "source": [
    "#Test Case 4\n",
    "anagram('aa','bb')"
   ]
  },
  {
   "cell_type": "code",
   "execution_count": 81,
   "metadata": {},
   "outputs": [
    {
     "data": {
      "text/plain": [
       "True"
      ]
     },
     "execution_count": 81,
     "metadata": {},
     "output_type": "execute_result"
    }
   ],
   "source": [
    "anagram('go go go','gggooo')"
   ]
  },
  {
   "cell_type": "code",
   "execution_count": 82,
   "metadata": {},
   "outputs": [
    {
     "data": {
      "text/plain": [
       "True"
      ]
     },
     "execution_count": 82,
     "metadata": {},
     "output_type": "execute_result"
    }
   ],
   "source": [
    "anagram('abc','cba')"
   ]
  },
  {
   "cell_type": "code",
   "execution_count": 83,
   "metadata": {},
   "outputs": [
    {
     "data": {
      "text/plain": [
       "True"
      ]
     },
     "execution_count": 83,
     "metadata": {},
     "output_type": "execute_result"
    }
   ],
   "source": [
    "anagram('hi man','hi     man')"
   ]
  },
  {
   "cell_type": "code",
   "execution_count": 84,
   "metadata": {},
   "outputs": [
    {
     "data": {
      "text/plain": [
       "False"
      ]
     },
     "execution_count": 84,
     "metadata": {},
     "output_type": "execute_result"
    }
   ],
   "source": [
    "anagram('aabbcc','aabbc')"
   ]
  },
  {
   "cell_type": "code",
   "execution_count": 85,
   "metadata": {},
   "outputs": [
    {
     "data": {
      "text/plain": [
       "False"
      ]
     },
     "execution_count": 85,
     "metadata": {},
     "output_type": "execute_result"
    }
   ],
   "source": [
    "anagram('123','1 2')"
   ]
  },
  {
   "cell_type": "code",
   "execution_count": 86,
   "metadata": {},
   "outputs": [
    {
     "data": {
      "text/plain": [
       "True"
      ]
     },
     "execution_count": 86,
     "metadata": {},
     "output_type": "execute_result"
    }
   ],
   "source": [
    "anagram('dog','god')"
   ]
  },
  {
   "cell_type": "code",
   "execution_count": 88,
   "metadata": {},
   "outputs": [
    {
     "data": {
      "text/plain": [
       "False"
      ]
     },
     "execution_count": 88,
     "metadata": {},
     "output_type": "execute_result"
    }
   ],
   "source": [
    "anagram2('aaabb','abbbb') #This test case answer should have been false \n"
   ]
  },
  {
   "cell_type": "code",
   "execution_count": 14,
   "metadata": {},
   "outputs": [
    {
     "data": {
      "text/plain": [
       "\" assert_equal(sol('go go go','gggooo'),True)\\n        assert_equal(sol('abc','cba'),True)\\n        assert_equal(sol('hi man','hi     man'),True)\\n        assert_equal(sol('aabbcc','aabbc'),False)\\n        assert_equal(sol('123','1 2'),False)\""
      ]
     },
     "execution_count": 14,
     "metadata": {},
     "output_type": "execute_result"
    }
   ],
   "source": [
    "''' assert_equal(sol('go go go','gggooo'),True)\n",
    "        assert_equal(sol('abc','cba'),True)\n",
    "        assert_equal(sol('hi man','hi     man'),True)\n",
    "        assert_equal(sol('aabbcc','aabbc'),False)\n",
    "        assert_equal(sol('123','1 2'),False)'''"
   ]
  }
 ],
 "metadata": {
  "kernelspec": {
   "display_name": "Python 3",
   "language": "python",
   "name": "python3"
  },
  "language_info": {
   "codemirror_mode": {
    "name": "ipython",
    "version": 3
   },
   "file_extension": ".py",
   "mimetype": "text/x-python",
   "name": "python",
   "nbconvert_exporter": "python",
   "pygments_lexer": "ipython3",
   "version": "3.7.4"
  }
 },
 "nbformat": 4,
 "nbformat_minor": 2
}
