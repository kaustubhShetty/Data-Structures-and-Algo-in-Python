{
 "cells": [
  {
   "cell_type": "markdown",
   "metadata": {},
   "source": [
    "# Dynamic Arrays Pratice in Python"
   ]
  },
  {
   "cell_type": "code",
   "execution_count": 1,
   "metadata": {},
   "outputs": [],
   "source": [
    "import ctypes #Helps make static raw arrays\n",
    "\n",
    "class DynamicArray:\n",
    "    \n",
    "    def __init__(self):\n",
    "        self.n=0\n",
    "        self.capacity = 1\n",
    "        self.A = self.makeArray(self.capacity)\n",
    "    \n",
    "    def __len__(self):\n",
    "        return self.n\n",
    "    \n",
    "    def getElement(self,k): #k is the index position\n",
    "        \n",
    "        if 0<=k<self.n:\n",
    "            return IndexError(\"k out of bounds\")\n",
    "        else:\n",
    "            return self.A[k]\n",
    "        \n",
    "    def makeArray(self,new_cap):\n",
    "        return (new_cap*ctypes.py_object)()\n",
    "\n",
    "    def append(self,ele):\n",
    "        if self.n == self.capacity:\n",
    "            B = self.makeArray(2*self.capacity)\n",
    "            for k in range(self.n):\n",
    "                B[k] = self.A[k]\n",
    "            self.A = B\n",
    "            self.capacity = 2*self.capacity\n",
    "        self.A[self.n] = ele\n",
    "        self.n +=1"
   ]
  },
  {
   "cell_type": "code",
   "execution_count": 2,
   "metadata": {},
   "outputs": [],
   "source": [
    "arr = DynamicArray()"
   ]
  },
  {
   "cell_type": "code",
   "execution_count": 3,
   "metadata": {},
   "outputs": [],
   "source": [
    "arr.append(4)"
   ]
  },
  {
   "cell_type": "code",
   "execution_count": 4,
   "metadata": {},
   "outputs": [
    {
     "data": {
      "text/plain": [
       "1"
      ]
     },
     "execution_count": 4,
     "metadata": {},
     "output_type": "execute_result"
    }
   ],
   "source": [
    "len(arr)"
   ]
  },
  {
   "cell_type": "code",
   "execution_count": null,
   "metadata": {},
   "outputs": [],
   "source": [
    "ARR"
   ]
  }
 ],
 "metadata": {
  "kernelspec": {
   "display_name": "Python 3",
   "language": "python",
   "name": "python3"
  },
  "language_info": {
   "codemirror_mode": {
    "name": "ipython",
    "version": 3
   },
   "file_extension": ".py",
   "mimetype": "text/x-python",
   "name": "python",
   "nbconvert_exporter": "python",
   "pygments_lexer": "ipython3",
   "version": "3.7.4"
  }
 },
 "nbformat": 4,
 "nbformat_minor": 2
}
