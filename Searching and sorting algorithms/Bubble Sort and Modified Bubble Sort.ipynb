{
 "cells": [
  {
   "cell_type": "markdown",
   "metadata": {},
   "source": [
    "## Bubble Sort"
   ]
  },
  {
   "cell_type": "markdown",
   "metadata": {},
   "source": [
    "1. Bubble sort is an inplace, stable algorithm\n",
    "2. Here unlike other algorithms where we select an element and keep comparing that same element, we instead look at the index.\n",
    "3. The largest element bubbles up to the end of the array.\n",
    "4. Bubble sort and Selection Sort are slow sorting Algorithms"
   ]
  },
  {
   "cell_type": "code",
   "execution_count": 2,
   "metadata": {},
   "outputs": [],
   "source": [
    "def Bubble_Sort(arr):\n",
    "    n=len(arr)\n",
    "    for i in range(n-1): #Traverse through all the elements\n",
    "        for j in range(0,n-i-1):  #Last elements are already in place\n",
    "            if arr[j]>arr[j+1]:   #if current element is greater than next adjacent element then swap\n",
    "                arr[j],arr[j+1]=arr[j+1],arr[j]  \n",
    "    return arr"
   ]
  },
  {
   "cell_type": "code",
   "execution_count": 4,
   "metadata": {},
   "outputs": [
    {
     "data": {
      "text/plain": [
       "[11, 12, 22, 25, 34, 64, 90]"
      ]
     },
     "execution_count": 4,
     "metadata": {},
     "output_type": "execute_result"
    }
   ],
   "source": [
    "#Driver Code\n",
    "l = [64,34,25,12,22,11,90]\n",
    "Bubble_Sort(l)"
   ]
  },
  {
   "cell_type": "markdown",
   "metadata": {},
   "source": [
    "Best case (Array is sorted): O(n^2)\n",
    "Avg case : O(n^2)\n",
    "Best case: O(n^2)"
   ]
  },
  {
   "cell_type": "markdown",
   "metadata": {},
   "source": [
    "## Modified Bubble Sort"
   ]
  },
  {
   "cell_type": "markdown",
   "metadata": {},
   "source": [
    "1. Here the only change we make is keep a flag variable\n",
    "2. When the array is already sorted, it makes no sense to have n^2 iterations\n",
    "3. If in the 1st iteration of outer loop if there was no swap, we can say the array is already sorted\n",
    "4. Hence this makes the Time Complexity of Best Case : O(n)"
   ]
  },
  {
   "cell_type": "code",
   "execution_count": 8,
   "metadata": {},
   "outputs": [],
   "source": [
    "def Modified_Bubble_Sort(arr):\n",
    "    n=len(arr)\n",
    "    for i in range(n-1): #Traverse through all the elements\n",
    "        flag = 0   ##############3\n",
    "        for j in range(0,n-i-1):  #Last elements are already in place\n",
    "            if arr[j]>arr[j+1]:   #if current element is greater than next adjacent element then swap\n",
    "                flag=1\n",
    "                arr[j],arr[j+1]=arr[j+1],arr[j]  \n",
    "        if flag==0: ##################\n",
    "            break\n",
    "    return arr"
   ]
  },
  {
   "cell_type": "code",
   "execution_count": 9,
   "metadata": {},
   "outputs": [
    {
     "data": {
      "text/plain": [
       "[1, 2, 3, 4, 5, 6, 7, 8]"
      ]
     },
     "execution_count": 9,
     "metadata": {},
     "output_type": "execute_result"
    }
   ],
   "source": [
    "l=[1,2,3,4,5,6,7,8]\n",
    "Modified_Bubble_Sort(l)"
   ]
  },
  {
   "cell_type": "code",
   "execution_count": 10,
   "metadata": {},
   "outputs": [
    {
     "data": {
      "text/plain": [
       "[1, 2, 3, 5, 7, 8, 9, 12]"
      ]
     },
     "execution_count": 10,
     "metadata": {},
     "output_type": "execute_result"
    }
   ],
   "source": [
    "l=[1,2,3,12,5,7,9,8]\n",
    "Modified_Bubble_Sort(l)"
   ]
  },
  {
   "cell_type": "markdown",
   "metadata": {},
   "source": [
    "## What is an Inplace Sorting Algorithm?"
   ]
  },
  {
   "cell_type": "markdown",
   "metadata": {},
   "source": [
    "An in-place algorithm is an algorithm that does not need an extra space and produces an output in the same memory that contains the data by transforming the input ‘in-place’. However, a small constant extra space used for variables is allowed."
   ]
  },
  {
   "cell_type": "markdown",
   "metadata": {},
   "source": [
    "## What is a stable sorting algorithm?"
   ]
  },
  {
   "cell_type": "markdown",
   "metadata": {},
   "source": [
    "A sorting algorithm is said to be stable if two objects with equal keys appear in the same order in sorted output as they appear in the input array to be sorted."
   ]
  }
 ],
 "metadata": {
  "kernelspec": {
   "display_name": "Python 3",
   "language": "python",
   "name": "python3"
  },
  "language_info": {
   "codemirror_mode": {
    "name": "ipython",
    "version": 3
   },
   "file_extension": ".py",
   "mimetype": "text/x-python",
   "name": "python",
   "nbconvert_exporter": "python",
   "pygments_lexer": "ipython3",
   "version": "3.7.4"
  }
 },
 "nbformat": 4,
 "nbformat_minor": 2
}
