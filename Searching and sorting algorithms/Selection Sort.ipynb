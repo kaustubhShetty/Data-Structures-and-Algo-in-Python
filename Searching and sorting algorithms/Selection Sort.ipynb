{
 "cells": [
  {
   "cell_type": "markdown",
   "metadata": {},
   "source": [
    "## Selection Sort"
   ]
  },
  {
   "cell_type": "markdown",
   "metadata": {},
   "source": [
    "1. Simplest Sorting Algorithm\n",
    "2. One that anyone would do intuitively\n",
    "\n",
    "LEFT HAND       RIGHT HAND\n",
    "9,6,3,4         \n",
    "\n",
    "First find the minimum card no. in left hand and then place it in second hand\n",
    "\n",
    "LEFT HAND       RIGHT HAND\n",
    "9,6,4           3\n",
    "\n",
    "Find the minmum in the left hand and then place it in sencond hand\n",
    "\n",
    "LEFT HAND       RIGHT HAND\n",
    "9,6             3,4\n",
    "\n",
    "Find the minmum in the left hand and then place it in sencond hand\n",
    "\n",
    "LEFT HAND       RIGHT HAND\n",
    "9               3,4,6\n",
    "\n",
    "Find the minmum in the left hand and then place it in sencond hand\n",
    "\n",
    "LEFT HAND       RIGHT HAND\n",
    "                3,4,6,9"
   ]
  },
  {
   "cell_type": "markdown",
   "metadata": {},
   "source": [
    "But this way, we need an extra array(RIGHT HAND) and the algorithm would not be inplace"
   ]
  },
  {
   "cell_type": "markdown",
   "metadata": {},
   "source": [
    "Hence we do the same thing but in the same array\n",
    "\n",
    "arr = [9,6,3,4]\n",
    "1. Find the minimum in the array\n",
    "2. Swap the 2 positions\n",
    "\n",
    "ONLY THESE 2 STEPS REMEMBER AND YOU WILL REMEMBER THE WHOLE ALGORITHM"
   ]
  },
  {
   "cell_type": "code",
   "execution_count": 7,
   "metadata": {},
   "outputs": [],
   "source": [
    "def Selection_Sort(arr):\n",
    "    for i in range(len(arr)):\n",
    "        minimum_index = i  #Keeps index of the minimum  element\n",
    "        for j in range(i+1,len(arr)):\n",
    "            if arr[j]  < arr[minimum_index]:\n",
    "                minimum_index = j\n",
    "        arr[minimum_index],arr[i] = arr[i],arr[minimum_index]\n",
    "    return arr   "
   ]
  },
  {
   "cell_type": "code",
   "execution_count": 8,
   "metadata": {},
   "outputs": [
    {
     "data": {
      "text/plain": [
       "[3, 4, 6, 9]"
      ]
     },
     "execution_count": 8,
     "metadata": {},
     "output_type": "execute_result"
    }
   ],
   "source": [
    "Selection_Sort([9,6,3,4])"
   ]
  },
  {
   "cell_type": "code",
   "execution_count": 10,
   "metadata": {},
   "outputs": [
    {
     "data": {
      "text/plain": [
       "[1, 3, 10, 12]"
      ]
     },
     "execution_count": 10,
     "metadata": {},
     "output_type": "execute_result"
    }
   ],
   "source": [
    "Selection_Sort([10,1,12,3])"
   ]
  },
  {
   "cell_type": "markdown",
   "metadata": {},
   "source": [
    "## Is it an inplace algorithm?"
   ]
  },
  {
   "cell_type": "markdown",
   "metadata": {},
   "source": [
    "YES....as no extra array is required"
   ]
  },
  {
   "cell_type": "markdown",
   "metadata": {},
   "source": [
    "## Is it Stable Sort?"
   ]
  },
  {
   "cell_type": "markdown",
   "metadata": {},
   "source": [
    "NO"
   ]
  },
  {
   "cell_type": "markdown",
   "metadata": {},
   "source": [
    "Selection sort works by finding the minimum element and then inserting it in its correct position by swapping with the element which is in the position of this minimum element. This is what makes it unstable."
   ]
  }
 ],
 "metadata": {
  "kernelspec": {
   "display_name": "Python 3",
   "language": "python",
   "name": "python3"
  },
  "language_info": {
   "codemirror_mode": {
    "name": "ipython",
    "version": 3
   },
   "file_extension": ".py",
   "mimetype": "text/x-python",
   "name": "python",
   "nbconvert_exporter": "python",
   "pygments_lexer": "ipython3",
   "version": "3.7.4"
  }
 },
 "nbformat": 4,
 "nbformat_minor": 2
}
